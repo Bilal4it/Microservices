{
 "cells": [
  {
   "cell_type": "markdown",
   "id": "fd57e2a0",
   "metadata": {},
   "source": [
    "# Microservices"
   ]
  },
  {
   "cell_type": "markdown",
   "id": "216fcd6a",
   "metadata": {},
   "source": [
    " ## WebAPI GET Categories"
   ]
  },
  {
   "cell_type": "code",
   "execution_count": null,
   "id": "answering-therapy",
   "metadata": {},
   "outputs": [],
   "source": [
    "import requests\n",
    "import warnings\n",
    "warnings.filterwarnings('ignore')\n",
    "\n",
    "response = requests.get('https://localhost:7146/Lms/GetAllCategories',verify=False)\n",
    "data = response.json()\n",
    "for i in range(0,len(data)):\n",
    "    print(data[i])"
   ]
  },
  {
   "cell_type": "markdown",
   "id": "c7e8ec7c",
   "metadata": {},
   "source": [
    "## WebAPI Add Student"
   ]
  },
  {
   "cell_type": "code",
   "execution_count": null,
   "id": "adjustable-gossip",
   "metadata": {},
   "outputs": [],
   "source": [
    "import requests\n",
    "import json\n",
    " \n",
    "# Making a PUT request\n",
    "headers = {'Content-type': 'application/json'}\n",
    "r = requests.put('https://localhost:7146/Lms', data =json.dumps({\"id\": 0,\"name\":\"Ronaldo344\",\"address\": \"Linz\"}),verify=False,headers=headers)\n",
    " \n",
    "# check status code for response received\n",
    "# success code - 200\n",
    "print(r)\n",
    " \n",
    "# print content of request\n",
    "print(r.content)"
   ]
  },
  {
   "cell_type": "code",
   "execution_count": null,
   "id": "infectious-layout",
   "metadata": {},
   "outputs": [],
   "source": []
  }
 ],
 "metadata": {
  "kernelspec": {
   "display_name": "Python 3 (ipykernel)",
   "language": "python",
   "name": "python3"
  },
  "language_info": {
   "codemirror_mode": {
    "name": "ipython",
    "version": 3
   },
   "file_extension": ".py",
   "mimetype": "text/x-python",
   "name": "python",
   "nbconvert_exporter": "python",
   "pygments_lexer": "ipython3",
   "version": "3.9.13"
  }
 },
 "nbformat": 4,
 "nbformat_minor": 5
}
